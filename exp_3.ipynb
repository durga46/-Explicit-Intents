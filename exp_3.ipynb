{
  "nbformat": 4,
  "nbformat_minor": 0,
  "metadata": {
    "colab": {
      "provenance": [],
      "authorship_tag": "ABX9TyN/6DJnaDPnSrEnLLh9kXJW",
      "include_colab_link": true
    },
    "kernelspec": {
      "name": "python3",
      "display_name": "Python 3"
    },
    "language_info": {
      "name": "python"
    }
  },
  "cells": [
    {
      "cell_type": "markdown",
      "metadata": {
        "id": "view-in-github",
        "colab_type": "text"
      },
      "source": [
        "<a href=\"https://colab.research.google.com/github/durga46/-Explicit-Intents/blob/main/exp_3.ipynb\" target=\"_parent\"><img src=\"https://colab.research.google.com/assets/colab-badge.svg\" alt=\"Open In Colab\"/></a>"
      ]
    },
    {
      "cell_type": "code",
      "execution_count": 1,
      "metadata": {
        "id": "qbnTWjnb-A0M"
      },
      "outputs": [],
      "source": [
        "import numpy as np\n",
        "from tensorflow import keras\n",
        "from tensorflow.keras import layers\n",
        "from tensorflow.keras.datasets import mnist\n",
        "import tensorflow as tf\n",
        "import matplotlib.pyplot as plt\n",
        "from tensorflow.keras import utils\n",
        "import pandas as pd\n",
        "from sklearn.metrics import classification_report,confusion_matrix\n",
        "from tensorflow.keras.preprocessing import image"
      ]
    },
    {
      "cell_type": "code",
      "source": [
        "(X_train, y_train), (X_test, y_test) = mnist.load_data()\n"
      ],
      "metadata": {
        "colab": {
          "base_uri": "https://localhost:8080/"
        },
        "id": "FeAx9yPx-B5x",
        "outputId": "13e75324-8ff6-4306-a79c-98d81fe15007"
      },
      "execution_count": 2,
      "outputs": [
        {
          "output_type": "stream",
          "name": "stdout",
          "text": [
            "Downloading data from https://storage.googleapis.com/tensorflow/tf-keras-datasets/mnist.npz\n",
            "11493376/11490434 [==============================] - 0s 0us/step\n",
            "11501568/11490434 [==============================] - 0s 0us/step\n"
          ]
        }
      ]
    },
    {
      "cell_type": "code",
      "source": [
        "X_train.shape\n"
      ],
      "metadata": {
        "colab": {
          "base_uri": "https://localhost:8080/"
        },
        "id": "ZV6OOYbA-Fvi",
        "outputId": "2177b50f-91dc-4229-cd04-c8bad3d1b136"
      },
      "execution_count": 3,
      "outputs": [
        {
          "output_type": "execute_result",
          "data": {
            "text/plain": [
              "(60000, 28, 28)"
            ]
          },
          "metadata": {},
          "execution_count": 3
        }
      ]
    },
    {
      "cell_type": "code",
      "source": [
        "X_test.shape\n"
      ],
      "metadata": {
        "colab": {
          "base_uri": "https://localhost:8080/"
        },
        "id": "qBWhqEd_-Ja2",
        "outputId": "cdd98bb4-06a0-4cdc-9452-994f2aa84979"
      },
      "execution_count": 4,
      "outputs": [
        {
          "output_type": "execute_result",
          "data": {
            "text/plain": [
              "(10000, 28, 28)"
            ]
          },
          "metadata": {},
          "execution_count": 4
        }
      ]
    },
    {
      "cell_type": "code",
      "source": [
        "single_image= X_train[3000]\n"
      ],
      "metadata": {
        "id": "Y5jfQODf-U83"
      },
      "execution_count": 110,
      "outputs": []
    },
    {
      "cell_type": "code",
      "source": [
        "single_image.shape\n"
      ],
      "metadata": {
        "colab": {
          "base_uri": "https://localhost:8080/"
        },
        "id": "2V2CEile-XO_",
        "outputId": "d5708db8-acb3-45dd-c53c-72336cf5388c"
      },
      "execution_count": 111,
      "outputs": [
        {
          "output_type": "execute_result",
          "data": {
            "text/plain": [
              "(28, 28)"
            ]
          },
          "metadata": {},
          "execution_count": 111
        }
      ]
    },
    {
      "cell_type": "code",
      "source": [
        "plt.imshow(single_image,cmap='gray')\n"
      ],
      "metadata": {
        "colab": {
          "base_uri": "https://localhost:8080/",
          "height": 282
        },
        "id": "s8ymj5lD-aAH",
        "outputId": "8f31428a-e781-4117-f64a-25830fe9e9bd"
      },
      "execution_count": 112,
      "outputs": [
        {
          "output_type": "execute_result",
          "data": {
            "text/plain": [
              "<matplotlib.image.AxesImage at 0x7f1cac8780d0>"
            ]
          },
          "metadata": {},
          "execution_count": 112
        },
        {
          "output_type": "display_data",
          "data": {
            "text/plain": [
              "<Figure size 432x288 with 1 Axes>"
            ],
            "image/png": "[encoded data removed]"
          },
          "metadata": {
            "needs_background": "light"
          }
        }
      ]
    },
    {
      "cell_type": "code",
      "source": [
        "y_train.shape\n"
      ],
      "metadata": {
        "colab": {
          "base_uri": "https://localhost:8080/"
        },
        "id": "b0PjXXyz-e0f",
        "outputId": "5b2257a4-94a7-4686-bef5-095947fe4bd6"
      },
      "execution_count": 113,
      "outputs": [
        {
          "output_type": "execute_result",
          "data": {
            "text/plain": [
              "(60000,)"
            ]
          },
          "metadata": {},
          "execution_count": 113
        }
      ]
    },
    {
      "cell_type": "code",
      "source": [
        "y_train[3000]"
      ],
      "metadata": {
        "colab": {
          "base_uri": "https://localhost:8080/"
        },
        "id": "_bW0AOEIDdDw",
        "outputId": "222a029b-34b3-4298-da8a-3681a69d8310"
      },
      "execution_count": 114,
      "outputs": [
        {
          "output_type": "execute_result",
          "data": {
            "text/plain": [
              "9"
            ]
          },
          "metadata": {},
          "execution_count": 114
        }
      ]
    },
    {
      "cell_type": "code",
      "source": [
        "X_train.min()\n"
      ],
      "metadata": {
        "colab": {
          "base_uri": "https://localhost:8080/"
        },
        "id": "LZ0uKoK_-h_m",
        "outputId": "caebb0c5-231c-4d34-8a42-5786cf651939"
      },
      "execution_count": 115,
      "outputs": [
        {
          "output_type": "execute_result",
          "data": {
            "text/plain": [
              "0"
            ]
          },
          "metadata": {},
          "execution_count": 115
        }
      ]
    },
    {
      "cell_type": "code",
      "source": [
        "X_train.max()\n"
      ],
      "metadata": {
        "colab": {
          "base_uri": "https://localhost:8080/"
        },
        "id": "550uuk66-kKg",
        "outputId": "81f7e2ff-9d38-4cfb-957b-941754f0d8a1"
      },
      "execution_count": 116,
      "outputs": [
        {
          "output_type": "execute_result",
          "data": {
            "text/plain": [
              "255"
            ]
          },
          "metadata": {},
          "execution_count": 116
        }
      ]
    },
    {
      "cell_type": "code",
      "source": [
        "X_train_scaled = X_train/255.0\n",
        "X_test_scaled = X_test/255.0\n"
      ],
      "metadata": {
        "id": "luzJJV_H-nM-"
      },
      "execution_count": 117,
      "outputs": []
    },
    {
      "cell_type": "code",
      "source": [
        "X_train_scaled.min()\n"
      ],
      "metadata": {
        "colab": {
          "base_uri": "https://localhost:8080/"
        },
        "id": "YQ49VA-p-rN_",
        "outputId": "3d30cc1c-63ba-4b7e-efc5-53b307e918a2"
      },
      "execution_count": 118,
      "outputs": [
        {
          "output_type": "execute_result",
          "data": {
            "text/plain": [
              "0.0"
            ]
          },
          "metadata": {},
          "execution_count": 118
        }
      ]
    },
    {
      "cell_type": "code",
      "source": [
        "X_train_scaled.max()"
      ],
      "metadata": {
        "colab": {
          "base_uri": "https://localhost:8080/"
        },
        "id": "PQCPABtd-wM2",
        "outputId": "68157dbb-bbcc-484c-81b5-67072c0d8475"
      },
      "execution_count": 119,
      "outputs": [
        {
          "output_type": "execute_result",
          "data": {
            "text/plain": [
              "1.0"
            ]
          },
          "metadata": {},
          "execution_count": 119
        }
      ]
    },
    {
      "cell_type": "code",
      "source": [
        "y_train[0]\n"
      ],
      "metadata": {
        "colab": {
          "base_uri": "https://localhost:8080/"
        },
        "id": "shjjwMRd_CuH",
        "outputId": "d97a62ed-dde2-463d-f54d-bdf0a121073a"
      },
      "execution_count": 120,
      "outputs": [
        {
          "output_type": "execute_result",
          "data": {
            "text/plain": [
              "5"
            ]
          },
          "metadata": {},
          "execution_count": 120
        }
      ]
    },
    {
      "cell_type": "code",
      "source": [
        "y_train_onehot = utils.to_categorical(y_train,10)\n",
        "y_test_onehot = utils.to_categorical(y_test,10)\n"
      ],
      "metadata": {
        "id": "N96Md-ax_FXX"
      },
      "execution_count": 121,
      "outputs": []
    },
    {
      "cell_type": "code",
      "source": [
        "type(y_train_onehot)\n"
      ],
      "metadata": {
        "colab": {
          "base_uri": "https://localhost:8080/"
        },
        "id": "MT5hcxL-_KA3",
        "outputId": "60de43ec-e40e-4676-bf62-0c8fef1991a4"
      },
      "execution_count": 122,
      "outputs": [
        {
          "output_type": "execute_result",
          "data": {
            "text/plain": [
              "numpy.ndarray"
            ]
          },
          "metadata": {},
          "execution_count": 122
        }
      ]
    },
    {
      "cell_type": "code",
      "source": [
        "y_train_onehot.shape"
      ],
      "metadata": {
        "colab": {
          "base_uri": "https://localhost:8080/"
        },
        "id": "wF7B0vhv_MUO",
        "outputId": "4b106b0b-f99e-416a-f8fc-2478f07adcba"
      },
      "execution_count": 123,
      "outputs": [
        {
          "output_type": "execute_result",
          "data": {
            "text/plain": [
              "(60000, 10)"
            ]
          },
          "metadata": {},
          "execution_count": 123
        }
      ]
    },
    {
      "cell_type": "code",
      "source": [
        "single_image = X_train[300]\n",
        "plt.imshow(single_image,cmap='gray')"
      ],
      "metadata": {
        "colab": {
          "base_uri": "https://localhost:8080/",
          "height": 282
        },
        "id": "MgGwyVzV_PAf",
        "outputId": "851adc00-e8b0-4604-fd3a-f3411c996478"
      },
      "execution_count": 124,
      "outputs": [
        {
          "output_type": "execute_result",
          "data": {
            "text/plain": [
              "<matplotlib.image.AxesImage at 0x7f1cac85a810>"
            ]
          },
          "metadata": {},
          "execution_count": 124
        },
        {
          "output_type": "display_data",
          "data": {
            "text/plain": [
              "<Figure size 432x288 with 1 Axes>"
            ],
            "image/png": "[encoded data removed]"
          },
          "metadata": {
            "needs_background": "light"
          }
        }
      ]
    },
    {
      "cell_type": "code",
      "source": [
        "y_train_onehot[300]\n"
      ],
      "metadata": {
        "colab": {
          "base_uri": "https://localhost:8080/"
        },
        "id": "X5xt874P_WH-",
        "outputId": "4a370cde-4a18-4744-aafd-1d669f7d539a"
      },
      "execution_count": 125,
      "outputs": [
        {
          "output_type": "execute_result",
          "data": {
            "text/plain": [
              "array([0., 0., 0., 0., 0., 0., 0., 0., 1., 0.], dtype=float32)"
            ]
          },
          "metadata": {},
          "execution_count": 125
        }
      ]
    },
    {
      "cell_type": "code",
      "source": [
        "X_train_scaled = X_train_scaled.reshape(-1,28,28,1)\n",
        "X_test_scaled = X_test_scaled.reshape(-1,28,28,1)"
      ],
      "metadata": {
        "id": "twK0CQft_aSO"
      },
      "execution_count": 126,
      "outputs": []
    },
    {
      "cell_type": "code",
      "source": [
        "X_train_scaled.shape"
      ],
      "metadata": {
        "colab": {
          "base_uri": "https://localhost:8080/"
        },
        "id": "QMKET9LJ_lIG",
        "outputId": "31413bc2-72b3-462e-d357-a9647f95cbab"
      },
      "execution_count": 127,
      "outputs": [
        {
          "output_type": "execute_result",
          "data": {
            "text/plain": [
              "(60000, 28, 28, 1)"
            ]
          },
          "metadata": {},
          "execution_count": 127
        }
      ]
    },
    {
      "cell_type": "code",
      "source": [
        "model = keras.Sequential()\n",
        "model.add(layers.Input(shape=(28,28,1)))\n",
        "model.add(layers.Conv2D(filters=32,kernel_size=(3,3),activation='relu'))\n",
        "model.add(layers.MaxPool2D(pool_size=(2,2)))\n",
        "model.add(layers.Flatten())\n",
        "model.add(layers.Dense(32,activation='relu'))\n",
        "model.add(layers.Dense(10,activation='softmax'))\n",
        "\n"
      ],
      "metadata": {
        "id": "-piwuzsjGlHu"
      },
      "execution_count": 130,
      "outputs": []
    },
    {
      "cell_type": "code",
      "source": [
        "model.summary()"
      ],
      "metadata": {
        "colab": {
          "base_uri": "https://localhost:8080/"
        },
        "id": "T3g2bvpzI0Qv",
        "outputId": "a284c864-2631-4593-9a7b-09b09f0d3c7a"
      },
      "execution_count": 131,
      "outputs": [
        {
          "output_type": "stream",
          "name": "stdout",
          "text": [
            "Model: \"sequential_5\"\n",
            "_________________________________________________________________\n",
            " Layer (type)                Output Shape              Param #   \n",
            "=================================================================\n",
            " conv2d_3 (Conv2D)           (None, 26, 26, 32)        320       \n",
            "                                                                 \n",
            " max_pooling2d (MaxPooling2D  (None, 13, 13, 32)       0         \n",
            " )                                                               \n",
            "                                                                 \n",
            " flatten (Flatten)           (None, 5408)              0         \n",
            "                                                                 \n",
            " dense (Dense)               (None, 32)                173088    \n",
            "                                                                 \n",
            " dense_1 (Dense)             (None, 10)                330       \n",
            "                                                                 \n",
            "=================================================================\n",
            "Total params: 173,738\n",
            "Trainable params: 173,738\n",
            "Non-trainable params: 0\n",
            "_________________________________________________________________\n"
          ]
        }
      ]
    },
    {
      "cell_type": "code",
      "source": [
        "model.compile(loss='categorical_crossentropy',\n",
        "              optimizer='adam',\n",
        "              metrics='accuracy')"
      ],
      "metadata": {
        "id": "Q3FtVcDCPLEm"
      },
      "execution_count": 134,
      "outputs": []
    },
    {
      "cell_type": "code",
      "source": [
        "model.fit(X_train_scaled ,y_train_onehot, epochs=50,\n",
        "          batch_size=64, \n",
        "          validation_data=(X_test_scaled,y_test_onehot))"
      ],
      "metadata": {
        "colab": {
          "base_uri": "https://localhost:8080/"
        },
        "id": "t_McwZUzPYRA",
        "outputId": "5039f094-1520-4e01-a5ef-ad8231005688"
      },
      "execution_count": null,
      "outputs": [
        {
          "output_type": "stream",
          "name": "stdout",
          "text": [
            "Epoch 1/50\n",
            "938/938 [==============================] - 28s 30ms/step - loss: 0.0103 - accuracy: 0.9967 - val_loss: 0.0573 - val_accuracy: 0.9847\n",
            "Epoch 2/50\n",
            "938/938 [==============================] - 28s 30ms/step - loss: 0.0096 - accuracy: 0.9969 - val_loss: 0.0569 - val_accuracy: 0.9848\n",
            "Epoch 3/50\n",
            "938/938 [==============================] - 28s 30ms/step - loss: 0.0067 - accuracy: 0.9981 - val_loss: 0.0640 - val_accuracy: 0.9845\n",
            "Epoch 4/50\n",
            "938/938 [==============================] - 28s 30ms/step - loss: 0.0066 - accuracy: 0.9979 - val_loss: 0.0593 - val_accuracy: 0.9847\n",
            "Epoch 5/50\n",
            "938/938 [==============================] - 29s 31ms/step - loss: 0.0057 - accuracy: 0.9980 - val_loss: 0.0717 - val_accuracy: 0.9840\n",
            "Epoch 6/50\n",
            "938/938 [==============================] - 28s 30ms/step - loss: 0.0058 - accuracy: 0.9981 - val_loss: 0.0768 - val_accuracy: 0.9831\n",
            "Epoch 7/50\n",
            "938/938 [==============================] - 28s 30ms/step - loss: 0.0043 - accuracy: 0.9987 - val_loss: 0.0756 - val_accuracy: 0.9849\n",
            "Epoch 8/50\n",
            "938/938 [==============================] - 28s 30ms/step - loss: 0.0029 - accuracy: 0.9993 - val_loss: 0.0790 - val_accuracy: 0.9831\n",
            "Epoch 9/50\n",
            "938/938 [==============================] - 29s 31ms/step - loss: 0.0050 - accuracy: 0.9984 - val_loss: 0.0793 - val_accuracy: 0.9827\n",
            "Epoch 10/50\n",
            "938/938 [==============================] - 30s 32ms/step - loss: 0.0031 - accuracy: 0.9990 - val_loss: 0.0788 - val_accuracy: 0.9825\n",
            "Epoch 11/50\n",
            "938/938 [==============================] - 28s 30ms/step - loss: 0.0034 - accuracy: 0.9989 - val_loss: 0.0775 - val_accuracy: 0.9850\n",
            "Epoch 12/50\n",
            "938/938 [==============================] - 29s 31ms/step - loss: 0.0026 - accuracy: 0.9991 - val_loss: 0.0833 - val_accuracy: 0.9832\n",
            "Epoch 13/50\n",
            "938/938 [==============================] - 28s 30ms/step - loss: 0.0032 - accuracy: 0.9990 - val_loss: 0.0793 - val_accuracy: 0.9847\n",
            "Epoch 14/50\n",
            "938/938 [==============================] - 28s 30ms/step - loss: 0.0027 - accuracy: 0.9991 - val_loss: 0.0779 - val_accuracy: 0.9858\n",
            "Epoch 15/50\n",
            "938/938 [==============================] - 28s 30ms/step - loss: 0.0021 - accuracy: 0.9994 - val_loss: 0.0899 - val_accuracy: 0.9840\n",
            "Epoch 16/50\n",
            "938/938 [==============================] - 28s 30ms/step - loss: 0.0019 - accuracy: 0.9994 - val_loss: 0.0790 - val_accuracy: 0.9865\n",
            "Epoch 17/50\n",
            "938/938 [==============================] - 28s 30ms/step - loss: 0.0032 - accuracy: 0.9990 - val_loss: 0.0775 - val_accuracy: 0.9849\n",
            "Epoch 18/50\n",
            "938/938 [==============================] - 28s 30ms/step - loss: 0.0024 - accuracy: 0.9992 - val_loss: 0.0754 - val_accuracy: 0.9855\n",
            "Epoch 19/50\n",
            "938/938 [==============================] - 29s 31ms/step - loss: 9.0613e-04 - accuracy: 0.9998 - val_loss: 0.0826 - val_accuracy: 0.9851\n",
            "Epoch 20/50\n",
            "938/938 [==============================] - 28s 30ms/step - loss: 0.0025 - accuracy: 0.9992 - val_loss: 0.0871 - val_accuracy: 0.9849\n",
            "Epoch 21/50\n",
            "938/938 [==============================] - 28s 30ms/step - loss: 0.0022 - accuracy: 0.9993 - val_loss: 0.0836 - val_accuracy: 0.9850\n",
            "Epoch 22/50\n",
            "938/938 [==============================] - 28s 30ms/step - loss: 9.5764e-04 - accuracy: 0.9998 - val_loss: 0.0778 - val_accuracy: 0.9861\n",
            "Epoch 23/50\n",
            "938/938 [==============================] - 28s 30ms/step - loss: 0.0029 - accuracy: 0.9991 - val_loss: 0.0871 - val_accuracy: 0.9846\n",
            "Epoch 24/50\n",
            "938/938 [==============================] - 28s 30ms/step - loss: 0.0024 - accuracy: 0.9993 - val_loss: 0.0866 - val_accuracy: 0.9857\n",
            "Epoch 25/50\n",
            "938/938 [==============================] - 28s 30ms/step - loss: 0.0016 - accuracy: 0.9996 - val_loss: 0.0859 - val_accuracy: 0.9856\n",
            "Epoch 26/50\n",
            "938/938 [==============================] - 29s 31ms/step - loss: 6.0791e-04 - accuracy: 0.9998 - val_loss: 0.0856 - val_accuracy: 0.9853\n",
            "Epoch 27/50\n",
            "938/938 [==============================] - 28s 30ms/step - loss: 9.5504e-05 - accuracy: 1.0000 - val_loss: 0.0846 - val_accuracy: 0.9861\n",
            "Epoch 28/50\n",
            "938/938 [==============================] - 28s 30ms/step - loss: 2.7919e-05 - accuracy: 1.0000 - val_loss: 0.0859 - val_accuracy: 0.9863\n",
            "Epoch 29/50\n",
            "938/938 [==============================] - 28s 30ms/step - loss: 1.5911e-05 - accuracy: 1.0000 - val_loss: 0.0864 - val_accuracy: 0.9866\n",
            "Epoch 30/50\n",
            "938/938 [==============================] - 28s 30ms/step - loss: 1.1017e-05 - accuracy: 1.0000 - val_loss: 0.0878 - val_accuracy: 0.9864\n",
            "Epoch 31/50\n",
            "938/938 [==============================] - 28s 30ms/step - loss: 7.9731e-06 - accuracy: 1.0000 - val_loss: 0.0895 - val_accuracy: 0.9867\n",
            "Epoch 32/50\n",
            "938/938 [==============================] - 28s 29ms/step - loss: 5.8705e-06 - accuracy: 1.0000 - val_loss: 0.0913 - val_accuracy: 0.9867\n",
            "Epoch 33/50\n",
            "938/938 [==============================] - 29s 31ms/step - loss: 4.4788e-06 - accuracy: 1.0000 - val_loss: 0.0925 - val_accuracy: 0.9865\n",
            "Epoch 34/50\n",
            "938/938 [==============================] - 28s 30ms/step - loss: 3.4102e-06 - accuracy: 1.0000 - val_loss: 0.0951 - val_accuracy: 0.9868\n",
            "Epoch 35/50\n",
            "938/938 [==============================] - 28s 30ms/step - loss: 0.0063 - accuracy: 0.9981 - val_loss: 0.1004 - val_accuracy: 0.9845\n",
            "Epoch 36/50\n",
            "938/938 [==============================] - 28s 30ms/step - loss: 0.0014 - accuracy: 0.9996 - val_loss: 0.0928 - val_accuracy: 0.9858\n",
            "Epoch 37/50\n",
            "938/938 [==============================] - 29s 31ms/step - loss: 3.6234e-04 - accuracy: 0.9999 - val_loss: 0.0948 - val_accuracy: 0.9855\n",
            "Epoch 38/50\n",
            "611/938 [==================>...........] - ETA: 9s - loss: 4.1927e-05 - accuracy: 1.0000"
          ]
        }
      ]
    },
    {
      "cell_type": "code",
      "source": [
        "metrics = pd.DataFrame(model.history.history)"
      ],
      "metadata": {
        "id": "HvzuOjd3QyWt"
      },
      "execution_count": null,
      "outputs": []
    },
    {
      "cell_type": "code",
      "source": [
        "metrics.head()\n"
      ],
      "metadata": {
        "id": "iD0ZsRAAPj0m"
      },
      "execution_count": null,
      "outputs": []
    },
    {
      "cell_type": "code",
      "source": [
        "metrics[['accuracy','val_accuracy']].plot()\n"
      ],
      "metadata": {
        "colab": {
          "base_uri": "https://localhost:8080/",
          "height": 282
        },
        "id": "yOGDeW8wRpzf",
        "outputId": "06fdb8b6-96a4-410e-84c3-04db2de19ea9"
      },
      "execution_count": 140,
      "outputs": [
        {
          "output_type": "execute_result",
          "data": {
            "text/plain": [
              "<matplotlib.axes._subplots.AxesSubplot at 0x7f1cac7b3250>"
            ]
          },
          "metadata": {},
          "execution_count": 140
        },
        {
          "output_type": "display_data",
          "data": {
            "text/plain": [
              "<Figure size 432x288 with 1 Axes>"
            ],
            "image/png": "[encoded data removed]"
          },
          "metadata": {
            "needs_background": "light"
          }
        }
      ]
    },
    {
      "cell_type": "code",
      "source": [
        "metrics[['loss','val_loss']].plot()\n"
      ],
      "metadata": {
        "colab": {
          "base_uri": "https://localhost:8080/",
          "height": 282
        },
        "id": "XCA76Xx8Rs3v",
        "outputId": "7cd6feed-b263-4e39-e4fe-c6b974b5d571"
      },
      "execution_count": 141,
      "outputs": [
        {
          "output_type": "execute_result",
          "data": {
            "text/plain": [
              "<matplotlib.axes._subplots.AxesSubplot at 0x7f1ca8b4b2d0>"
            ]
          },
          "metadata": {},
          "execution_count": 141
        },
        {
          "output_type": "display_data",
          "data": {
            "text/plain": [
              "<Figure size 432x288 with 1 Axes>"
            ],
            "image/png": "[encoded data removed]"
          },
          "metadata": {
            "needs_background": "light"
          }
        }
      ]
    },
    {
      "cell_type": "code",
      "source": [
        "x_test_predictions = np.argmax(model.predict(X_test_scaled), axis=1)\n"
      ],
      "metadata": {
        "id": "-cYrqsXsRv62"
      },
      "execution_count": 142,
      "outputs": []
    },
    {
      "cell_type": "code",
      "source": [
        "print(confusion_matrix(y_test,x_test_predictions))\n"
      ],
      "metadata": {
        "colab": {
          "base_uri": "https://localhost:8080/"
        },
        "id": "zs_BwysKR15G",
        "outputId": "4973b9c4-d640-472c-b8b5-3f6783c2444b"
      },
      "execution_count": 143,
      "outputs": [
        {
          "output_type": "stream",
          "name": "stdout",
          "text": [
            "[[ 970    1    2    1    1    1    3    0    1    0]\n",
            " [   0 1127    3    1    0    1    1    1    1    0]\n",
            " [   2    4 1016    1    2    0    1    4    2    0]\n",
            " [   0    0    2 1003    0    3    0    0    2    0]\n",
            " [   0    0    1    0  972    0    2    0    1    6]\n",
            " [   1    0    1   14    0  872    3    1    0    0]\n",
            " [   6    1    0    0    3    3  942    0    3    0]\n",
            " [   0    1    7    3    0    0    0 1014    1    2]\n",
            " [   5    0    6    6    2    2    1    4  944    4]\n",
            " [   1    1    1    6   10    2    0    8    2  978]]\n"
          ]
        }
      ]
    },
    {
      "cell_type": "code",
      "source": [
        "print(classification_report(y_test,x_test_predictions))\n"
      ],
      "metadata": {
        "colab": {
          "base_uri": "https://localhost:8080/"
        },
        "id": "Ll-wwjmFR4nu",
        "outputId": "899f47cc-34de-4ed5-ec08-f6f58f1854b8"
      },
      "execution_count": 144,
      "outputs": [
        {
          "output_type": "stream",
          "name": "stdout",
          "text": [
            "              precision    recall  f1-score   support\n",
            "\n",
            "           0       0.98      0.99      0.99       980\n",
            "           1       0.99      0.99      0.99      1135\n",
            "           2       0.98      0.98      0.98      1032\n",
            "           3       0.97      0.99      0.98      1010\n",
            "           4       0.98      0.99      0.99       982\n",
            "           5       0.99      0.98      0.98       892\n",
            "           6       0.99      0.98      0.99       958\n",
            "           7       0.98      0.99      0.98      1028\n",
            "           8       0.99      0.97      0.98       974\n",
            "           9       0.99      0.97      0.98      1009\n",
            "\n",
            "    accuracy                           0.98     10000\n",
            "   macro avg       0.98      0.98      0.98     10000\n",
            "weighted avg       0.98      0.98      0.98     10000\n",
            "\n"
          ]
        }
      ]
    },
    {
      "cell_type": "code",
      "source": [
        "img = image.load_img('num1.jpeg')\n"
      ],
      "metadata": {
        "id": "0UZ-S10nR7df"
      },
      "execution_count": 159,
      "outputs": []
    },
    {
      "cell_type": "code",
      "source": [
        "type(img)\n"
      ],
      "metadata": {
        "colab": {
          "base_uri": "https://localhost:8080/"
        },
        "id": "4hdUO7jTSJR2",
        "outputId": "ca1ac2bb-ba98-4961-b7f2-a9733e94c7b0"
      },
      "execution_count": 160,
      "outputs": [
        {
          "output_type": "execute_result",
          "data": {
            "text/plain": [
              "PIL.JpegImagePlugin.JpegImageFile"
            ]
          },
          "metadata": {},
          "execution_count": 160
        }
      ]
    },
    {
      "cell_type": "code",
      "source": [
        "img = image.load_img('num1.jpeg')\n",
        "img_tensor = tf.convert_to_tensor(np.asarray(img))\n",
        "img_28 = tf.image.resize(img_tensor,(28,28))\n",
        "img_28_gray = tf.image.rgb_to_grayscale(img_28)\n",
        "img_28_gray_scaled = img_28_gray.numpy()/255.0"
      ],
      "metadata": {
        "id": "rP6cMxS1SLlf"
      },
      "execution_count": 161,
      "outputs": []
    },
    {
      "cell_type": "code",
      "source": [
        "x_single_prediction = np.argmax(\n",
        "    model.predict(img_28_gray_scaled.reshape(1,28,28,1)),\n",
        "     axis=1)"
      ],
      "metadata": {
        "id": "Zk6tX9BvSRyP"
      },
      "execution_count": 162,
      "outputs": []
    },
    {
      "cell_type": "code",
      "source": [
        "\n",
        "print(x_single_prediction)"
      ],
      "metadata": {
        "colab": {
          "base_uri": "https://localhost:8080/"
        },
        "id": "QzbQOcgqSXVH",
        "outputId": "9b998340-458f-4153-e11e-6ad9cf30794a"
      },
      "execution_count": 163,
      "outputs": [
        {
          "output_type": "stream",
          "name": "stdout",
          "text": [
            "[7]\n"
          ]
        }
      ]
    },
    {
      "cell_type": "code",
      "source": [
        "plt.imshow(img_28_gray_scaled.reshape(28,28),cmap='gray')\n"
      ],
      "metadata": {
        "colab": {
          "base_uri": "https://localhost:8080/",
          "height": 282
        },
        "id": "LoU1RwriSkBn",
        "outputId": "7c9568b9-a0b2-4fc0-e520-01b76a4a3447"
      },
      "execution_count": 164,
      "outputs": [
        {
          "output_type": "execute_result",
          "data": {
            "text/plain": [
              "<matplotlib.image.AxesImage at 0x7f1cab590390>"
            ]
          },
          "metadata": {},
          "execution_count": 164
        },
        {
          "output_type": "display_data",
          "data": {
            "text/plain": [
              "<Figure size 432x288 with 1 Axes>"
            ],
            "image/png": "[encoded data removed]"
          },
          "metadata": {
            "needs_background": "light"
          }
        }
      ]
    },
    {
      "cell_type": "code",
      "source": [
        "img_28_gray_inverted = 255.0-img_28_gray\n",
        "img_28_gray_inverted_scaled = img_28_gray_inverted.numpy()/255.0"
      ],
      "metadata": {
        "id": "2POyZQBKSntP"
      },
      "execution_count": 165,
      "outputs": []
    },
    {
      "cell_type": "code",
      "source": [
        "x_single_prediction = np.argmax(\n",
        "    model.predict(img_28_gray_inverted_scaled.reshape(1,28,28,1)),\n",
        "     axis=1)"
      ],
      "metadata": {
        "id": "X2RurneVStKW"
      },
      "execution_count": 166,
      "outputs": []
    },
    {
      "cell_type": "code",
      "source": [
        "print(x_single_prediction)"
      ],
      "metadata": {
        "colab": {
          "base_uri": "https://localhost:8080/"
        },
        "id": "B_zTOo17Svvm",
        "outputId": "ff519fbb-76d0-4239-93e2-e37388e278c8"
      },
      "execution_count": 167,
      "outputs": [
        {
          "output_type": "stream",
          "name": "stdout",
          "text": [
            "[3]\n"
          ]
        }
      ]
    },
    {
      "cell_type": "code",
      "source": [],
      "metadata": {
        "id": "NbddoC4VSyaP"
      },
      "execution_count": null,
      "outputs": []
    }
  ]
}