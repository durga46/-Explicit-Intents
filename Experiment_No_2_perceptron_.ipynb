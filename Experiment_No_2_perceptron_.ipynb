{
  "nbformat": 4,
  "nbformat_minor": 0,
  "metadata": {
    "colab": {
      "provenance": [],
      "include_colab_link": true
    },
    "kernelspec": {
      "name": "python3",
      "display_name": "Python 3"
    },
    "language_info": {
      "name": "python"
    }
  },
  "cells": [
    {
      "cell_type": "markdown",
      "metadata": {
        "id": "view-in-github",
        "colab_type": "text"
      },
      "source": [
        "<a href=\"https://colab.research.google.com/github/durga46/-Explicit-Intents/blob/main/Experiment_No_2_perceptron_.ipynb\" target=\"_parent\"><img src=\"https://colab.research.google.com/assets/colab-badge.svg\" alt=\"Open In Colab\"/></a>"
      ]
    },
    {
      "cell_type": "code",
      "source": [
        "import numpy as np\n",
        "import pandas as pd\n",
        "import matplotlib.pyplot as plt\n",
        "from mpl_toolkits import mplot3d\n",
        "from sklearn.model_selection import train_test_split\n",
        "from sklearn.metrics import accuracy_score\n",
        "\n",
        "class Perceptron:\n",
        "  def __init__(self, learning_rate=0.1):\n",
        "    self.learning_rate = learning_rate\n",
        "    self._b = 0.0  # y-intercept\n",
        "    self._w = None  # weights assigned to input features\n",
        "    self.misclassified_samples = []\n",
        "  def fit(self, x: np.array, y: np.array, n_iter=10):\n",
        "    self._b = 0.0\n",
        "    self._w = np.zeros(x.shape[1])\n",
        "    self.misclassified_samples = []\n",
        "    for _ in range(n_iter):\n",
        "      # counter of the errors during this training iteration\n",
        "      errors = 0\n",
        "      for xi, yi in zip(x, y):\n",
        "        update = self.learning_rate * (yi - self.predict(xi))\n",
        "        self._b += update\n",
        "        self._w += update * xi\n",
        "        errors += int(update != 0.0)\n",
        "      self.misclassified_samples.append(errors)\n",
        "  def f(self, x: np.array) -> float:\n",
        "    return np.dot(x, self._w) + self._b\n",
        "  def predict(self, x: np.array):\n",
        "    return np.where(self.f(x) >= 0, 1, -1)\n",
        "\n",
        "url = 'https://archive.ics.uci.edu/ml/machine-learning-databases/iris/iris.data'\n",
        "df = pd.read_csv(url, header=None)\n",
        "df.head()\n",
        "# extract the label column\n",
        "y = df.iloc[:, 4].values\n",
        "# extract features\n",
        "x = df.iloc[:, 0:3].values\n",
        "\n",
        "x = x[0:100, 0:2]  # reduce the dimensionality of the data\n",
        "y = y[0:100]\n",
        "# plot Iris Setosa samples\n",
        "plt.scatter(x[:50, 0], x[:50, 1], color='red', marker='o', label='Setosa')\n",
        "# plot Iris Versicolour samples\n",
        "plt.scatter(x[50:100, 0], x[50:100, 1], color='blue', marker='x',\n",
        "            label='Versicolour')\n",
        "# show the legend\n",
        "plt.xlabel(\"Sepal length\")\n",
        "plt.ylabel(\"Petal length\")\n",
        "plt.legend(loc='upper left')\n",
        "# show the plot\n",
        "plt.show()\n",
        "# map the labels to a binary integer value\n",
        "y = np.where(y == 'Iris-setosa', 1, -1)\n",
        "\n",
        "\n",
        "x[:, 0] = (x[:, 0] - x[:, 0].mean()) / x[:, 0].std()\n",
        "x[:, 1] = (x[:, 1] - x[:, 1].mean()) / x[:, 1].std()\n",
        "\n",
        "\n",
        "# split the data\n",
        "x_train, x_test, y_train, y_test = train_test_split(x, y, test_size=0.25,\n",
        "                                                    random_state=0)\n",
        "# train the model\n",
        "classifier = Perceptron(learning_rate=0.01)\n",
        "classifier.fit(x_train, y_train)\n",
        "print(\"accuracy\" , accuracy_score(classifier.predict(x_test), y_test)*100)\n",
        "# plot the number of errors during each iteration\n",
        "plt.plot(range(1, len(classifier.misclassified_samples) + 1),\n",
        "         classifier.misclassified_samples, marker='o')\n",
        "plt.xlabel('Epoch')\n",
        "plt.ylabel('Errors')\n",
        "plt.show()\n",
        "\n",
        "\n"
      ],
      "metadata": {
        "colab": {
          "base_uri": "https://localhost:8080/",
          "height": 562
        },
        "id": "-wpyMFnyG1b9",
        "outputId": "88587f74-0807-4108-92d7-b9f6cd307d31"
      },
      "execution_count": 3,
      "outputs": [
        {
          "output_type": "display_data",
          "data": {
            "text/plain": [
              "<Figure size 432x288 with 1 Axes>"
            ],
            "image/png": "[encoded data removed]"
          },
          "metadata": {
            "needs_background": "light"
          }
        },
        {
          "output_type": "stream",
          "name": "stdout",
          "text": [
            "accuracy 100.0\n"
          ]
        },
        {
          "output_type": "display_data",
          "data": {
            "text/plain": [
              "<Figure size 432x288 with 1 Axes>"
            ],
            "image/png": "[encoded data removed]"
          },
          "metadata": {
            "needs_background": "light"
          }
        }
      ]
    },
    {
      "cell_type": "markdown",
      "source": [
        "\n",
        "\n"
      ],
      "metadata": {
        "id": "LdPmPZaJIbyp"
      }
    }
  ]
}